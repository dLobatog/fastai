{
 "cells": [
  {
   "cell_type": "markdown",
   "metadata": {},
   "source": [
    "# State Farm Distracted Driver Detection \n",
    "(https://www.kaggle.com/c/state-farm-distracted-driver-detection)"
   ]
  },
  {
   "cell_type": "markdown",
   "metadata": {},
   "source": [
    "A number of images will be analyzed. The 10 classes to predict are:\n",
    "\n",
    "- c0: normal driving\n",
    "- c1: texting - right\n",
    "- c2: talking on the phone - right\n",
    "- c3: texting - left\n",
    "- c4: talking on the phone - left\n",
    "- c5: operating the radio\n",
    "- c6: drinking\n",
    "- c7: reaching behind\n",
    "- c8: hair and makeup\n",
    "- c9: talking to passenger\n",
    "\n",
    "Download the dataset and then..."
   ]
  },
  {
   "cell_type": "markdown",
   "metadata": {},
   "source": [
    "## Create validation set and sample"
   ]
  },
  {
   "cell_type": "code",
   "execution_count": 50,
   "metadata": {},
   "outputs": [
    {
     "name": "stdout",
     "output_type": "stream",
     "text": [
      "/home/dlobatog/workspace/fastai/courses/deeplearning1/nbs\n",
      "/home/dlobatog/workspace/fastai/courses/deeplearning1/nbs/data/statefarm\n",
      "mkdir: ディレクトリ `valid' を作成できません: File exists\n",
      "mkdir: ディレクトリ `results' を作成できません: File exists\n",
      "/home/dlobatog/workspace/fastai/courses/deeplearning1/nbs\n"
     ]
    }
   ],
   "source": [
    "import os, math\n",
    "from shutil import copyfile\n",
    "from utils import *\n",
    "\n",
    "%cd ../../\n",
    "CURRENT_DIR = os.getcwd()\n",
    "DATA_DIR = CURRENT_DIR + \"/data/statefarm\"\n",
    "model_path = DATA_DIR + \"/models\" \n",
    "#DATA_DIR = \"data/statefarm\"\n",
    "if not os.path.exists(model_path): os.mkdir(model_path)\n",
    "%cd $DATA_DIR \n",
    "%mkdir valid\n",
    "%mkdir results\n",
    "%mkdir -p sample/train/c0\n",
    "%mkdir -p sample/train/c1\n",
    "%mkdir -p sample/train/c2\n",
    "%mkdir -p sample/train/c3\n",
    "%mkdir -p sample/train/c4\n",
    "%mkdir -p sample/train/c5\n",
    "%mkdir -p sample/train/c6\n",
    "%mkdir -p sample/train/c7\n",
    "%mkdir -p sample/train/c8\n",
    "%mkdir -p sample/train/c9\n",
    "%mkdir -p sample/test\n",
    "%mkdir -p sample/valid\n",
    "%mkdir -p sample/valid/c0\n",
    "%mkdir -p sample/valid/c1\n",
    "%mkdir -p sample/valid/c2\n",
    "%mkdir -p sample/valid/c3\n",
    "%mkdir -p sample/valid/c4\n",
    "%mkdir -p sample/valid/c5\n",
    "%mkdir -p sample/valid/c6\n",
    "%mkdir -p sample/valid/c7\n",
    "%mkdir -p sample/valid/c8\n",
    "%mkdir -p sample/valid/c9\n",
    "%mkdir -p sample/results\n",
    "%cd ../../"
   ]
  },
  {
   "cell_type": "markdown",
   "metadata": {},
   "source": [
    "To continue, we will pick up 10% of the images for each of the sets at random. This will form our sample set."
   ]
  },
  {
   "cell_type": "code",
   "execution_count": 51,
   "metadata": {},
   "outputs": [
    {
     "name": "stdout",
     "output_type": "stream",
     "text": [
      "/home/dlobatog/workspace/fastai/courses/deeplearning1/nbs/data/statefarm/train\n"
     ]
    }
   ],
   "source": [
    "%cd $DATA_DIR/train\n",
    "all_training_images = glob(\"**/*.jpg\")\n",
    "sample_train_size = math.ceil(len(all_training_images) * .1)\n",
    "all_training_images = np.random.permutation(all_training_images)\n",
    "# At this point, images are randomized, time to take the first \"sample_size\" images from the first ones\n",
    "for i in range(int(sample_train_size)): copyfile(all_training_images[i], DATA_DIR + \"/sample/train/\" + all_training_images[i])\n",
    "all_training_images = np.random.permutation(all_training_images)\n",
    "for i in range(int(sample_train_size)): copyfile(all_training_images[i], DATA_DIR + \"/sample/valid/\" + all_training_images[i])"
   ]
  },
  {
   "cell_type": "markdown",
   "metadata": {},
   "source": [
    "After that we make a validation sample group too."
   ]
  },
  {
   "cell_type": "code",
   "execution_count": 52,
   "metadata": {},
   "outputs": [
    {
     "name": "stdout",
     "output_type": "stream",
     "text": [
      "/home/dlobatog/workspace/fastai/courses/deeplearning1/nbs/data/statefarm/valid\n"
     ]
    },
    {
     "data": {
      "text/plain": [
       "0.0"
      ]
     },
     "execution_count": 52,
     "metadata": {},
     "output_type": "execute_result"
    }
   ],
   "source": [
    "%cd $DATA_DIR/valid\n",
    "all_validation_images = glob(\"**/*.jpg\")\n",
    "sample_validation_size = math.ceil(len(all_validation_images) * .1)\n",
    "all_validation_images = np.random.permutation(all_validation_images)\n",
    "# At this point, images are randomized, time to take the first \"sample_size\" images from the first ones\n",
    "for i in range(int(sample_validation_size)): copyfile(all_validation_images[i], DATA_DIR + \"/sample/valid/\" + all_validation_images[i])\n",
    "sample_validation_size"
   ]
  },
  {
   "cell_type": "markdown",
   "metadata": {},
   "source": [
    "## Finetune and train"
   ]
  },
  {
   "cell_type": "code",
   "execution_count": 58,
   "metadata": {},
   "outputs": [
    {
     "name": "stdout",
     "output_type": "stream",
     "text": [
      "/home/dlobatog/workspace/fastai/courses/deeplearning1/nbs/data/statefarm\n"
     ]
    }
   ],
   "source": [
    "%cd $DATA_DIR\n",
    "\n",
    "#Set path to sample/ path if desired\n",
    "path = DATA_DIR + '/sample/' # '/'\n",
    "test_path = DATA_DIR + '/test/' #We use all the test data\n",
    "results_path=DATA_DIR + '/results/'\n",
    "train_path=path + '/train/'\n",
    "valid_path=path + '/valid/'"
   ]
  },
  {
   "cell_type": "code",
   "execution_count": 59,
   "metadata": {
    "collapsed": true
   },
   "outputs": [],
   "source": [
    "#import Vgg16 helper class\n",
    "vgg = Vgg16()"
   ]
  },
  {
   "cell_type": "code",
   "execution_count": 60,
   "metadata": {
    "collapsed": true
   },
   "outputs": [],
   "source": [
    "#Set constants. You can experiment with no_of_epochs to improve the model\n",
    "batch_size=64\n",
    "no_of_epochs=3"
   ]
  },
  {
   "cell_type": "code",
   "execution_count": 61,
   "metadata": {},
   "outputs": [
    {
     "name": "stdout",
     "output_type": "stream",
     "text": [
      "Found 2243 images belonging to 10 classes.\n",
      "Found 2243 images belonging to 10 classes.\n"
     ]
    }
   ],
   "source": [
    "#Finetune the model\n",
    "batches = vgg.get_batches(train_path, batch_size=batch_size)\n",
    "val_batches = vgg.get_batches(valid_path, batch_size=batch_size*2)\n",
    "vgg.finetune(batches)\n",
    "\n",
    "#Not sure if we set this for all fits\n",
    "vgg.model.optimizer.lr = 0.01"
   ]
  },
  {
   "cell_type": "code",
   "execution_count": null,
   "metadata": {},
   "outputs": [
    {
     "name": "stdout",
     "output_type": "stream",
     "text": [
      "Running epoch: 0\n",
      "Epoch 1/1\n"
     ]
    }
   ],
   "source": [
    "#Notice we are passing in the validation dataset to the fit() method\n",
    "#For each epoch we test our model against the validation set\n",
    "latest_weights_filename = None\n",
    "for epoch in range(no_of_epochs):\n",
    "    print \"Running epoch: %d\" % epoch\n",
    "    vgg.fit(batches, val_batches, nb_epoch=1)\n",
    "    latest_weights_filename = 'ft%d.h5' % epoch\n",
    "    vgg.model.save_weights(results_path+latest_weights_filename)\n",
    "print \"Completed %s fit operations\" % no_of_epochs"
   ]
  },
  {
   "cell_type": "code",
   "execution_count": null,
   "metadata": {
    "collapsed": true
   },
   "outputs": [],
   "source": []
  }
 ],
 "metadata": {
  "kernelspec": {
   "display_name": "Python 2",
   "language": "python",
   "name": "python2"
  },
  "language_info": {
   "codemirror_mode": {
    "name": "ipython",
    "version": 2
   },
   "file_extension": ".py",
   "mimetype": "text/x-python",
   "name": "python",
   "nbconvert_exporter": "python",
   "pygments_lexer": "ipython2",
   "version": "2.7.13"
  }
 },
 "nbformat": 4,
 "nbformat_minor": 2
}
